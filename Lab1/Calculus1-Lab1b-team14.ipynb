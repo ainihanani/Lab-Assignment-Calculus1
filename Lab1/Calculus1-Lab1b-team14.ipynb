{
 "cells": [
  {
   "cell_type": "markdown",
   "metadata": {
    "id": "7TLBfxLgbKZO"
   },
   "source": [
    "# Calculus 1 - Lab 1b - Team 14"
   ]
  },
  {
   "cell_type": "code",
   "execution_count": null,
   "metadata": {
    "id": "R--3eGnUbKZS"
   },
   "outputs": [],
   "source": [
    "#%matplotlib notebook\n",
    "%matplotlib inline\n",
    "#init_session(use_unicode=True)\n",
    "from __future__ import division\n",
    "from sympy import *\n",
    "x, y, z, t = symbols('x y z t', real=True)\n",
    "k, m, n = symbols('k m n', integer=True)\n",
    "f, g, h = symbols('f g h', cls=Function)\n",
    "init_printing()"
   ]
  },
  {
   "cell_type": "markdown",
   "metadata": {
    "id": "RhGIFsbObKZU"
   },
   "source": [
    "<hr />"
   ]
  },
  {
   "cell_type": "markdown",
   "metadata": {
    "id": "lm7HWOZObKZU"
   },
   "source": [
    "To run a cell: Shift+Enter.<br />\n",
    "\n",
    "To print:\n",
    "- Cell > Run All.<br />\n",
    "- Make sure no there is no error. <br />\n",
    "- File -> Print Preview."
   ]
  },
  {
   "cell_type": "markdown",
   "metadata": {
    "collapsed": true,
    "id": "IB8JwTXxbKZV"
   },
   "source": [
    "Print your name using print function. <br />\n",
    "\n",
    "Example:\n",
    "print(\"Ali bin Ahmad\")"
   ]
  },
  {
   "cell_type": "code",
   "execution_count": null,
   "metadata": {
    "collapsed": true,
    "id": "kYHvOC7AbKZV"
   },
   "outputs": [],
   "source": []
  },
  {
   "cell_type": "markdown",
   "metadata": {
    "id": "jBWFHjdQbKZV"
   },
   "source": [
    "Print your student id using print function."
   ]
  },
  {
   "cell_type": "code",
   "execution_count": null,
   "metadata": {
    "collapsed": true,
    "id": "L4vyuf32bKZW"
   },
   "outputs": [],
   "source": []
  },
  {
   "cell_type": "markdown",
   "metadata": {
    "id": "dKPLYVcVbKZX"
   },
   "source": [
    "Print your group using print function."
   ]
  },
  {
   "cell_type": "code",
   "execution_count": null,
   "metadata": {
    "id": "TqZKOrg-bKZX"
   },
   "outputs": [],
   "source": []
  },
  {
   "cell_type": "markdown",
   "metadata": {
    "id": "QU4hsZ-ubKZY"
   },
   "source": [
    "## Sketch the graph of $\\displaystyle f(x) = \\frac{1-x}{3-x}$."
   ]
  },
  {
   "cell_type": "markdown",
   "metadata": {
    "id": "HEE55usLbKZY"
   },
   "source": [
    "Define function f.\n",
    "\n",
    "Example: f = x + 4"
   ]
  },
  {
   "cell_type": "code",
   "execution_count": null,
   "metadata": {
    "id": "0YhM74wgbKZZ"
   },
   "outputs": [],
   "source": []
  },
  {
   "cell_type": "markdown",
   "metadata": {
    "id": "43yPF2zNbKZZ"
   },
   "source": [
    "x-intercepts. When $y=0$, $x=?$\n",
    "\n",
    "Use function solve (Sympy Docs https://docs.sympy.org/latest/modules/solvers/solvers.html#solvers)."
   ]
  },
  {
   "cell_type": "code",
   "execution_count": null,
   "metadata": {
    "id": "31WZerbzbKZa"
   },
   "outputs": [],
   "source": []
  },
  {
   "cell_type": "markdown",
   "metadata": {
    "id": "QQuEHd_3bKZa"
   },
   "source": [
    "x-intercept: "
   ]
  },
  {
   "cell_type": "markdown",
   "metadata": {
    "id": "75MYf1qmbKZa"
   },
   "source": [
    "Answer:"
   ]
  },
  {
   "cell_type": "markdown",
   "metadata": {
    "id": "hnlPHupJbKZa"
   },
   "source": [
    "y-intercepts. When $x=0$, $y=?$\n",
    "\n",
    "Use function subs (Sympy Docs https://docs.sympy.org/latest/tutorial/basic_operations.html#substitution)."
   ]
  },
  {
   "cell_type": "code",
   "execution_count": null,
   "metadata": {
    "id": "C614mBKabKZb"
   },
   "outputs": [],
   "source": []
  },
  {
   "cell_type": "markdown",
   "metadata": {
    "id": "8MS2zcR_bKZb"
   },
   "source": [
    "y-intercept:"
   ]
  },
  {
   "cell_type": "markdown",
   "metadata": {
    "id": "iOsv0bzwbKZb"
   },
   "source": [
    "Answer:"
   ]
  },
  {
   "cell_type": "markdown",
   "metadata": {
    "id": "1PaZ7qrKbKZb"
   },
   "source": [
    "## Critical Value(s)"
   ]
  },
  {
   "cell_type": "markdown",
   "metadata": {
    "id": "vUwHjJmebKZb"
   },
   "source": [
    "Find the first derivative, $f'(x)$, and assign it to variable called f1. <br />\n",
    "\n",
    "Use function diff (Sympy Docs https://docs.sympy.org/latest/tutorial/calculus.html#derivatives).\n",
    "\n",
    "Print f1 using function pprint (Sympy Docs https://docs.sympy.org/latest/tutorial/printing.html#ascii-pretty-printer)."
   ]
  },
  {
   "cell_type": "code",
   "execution_count": null,
   "metadata": {
    "id": "3T6bCM0nbKZc"
   },
   "outputs": [],
   "source": []
  },
  {
   "cell_type": "markdown",
   "metadata": {
    "id": "ACwDyEBwbKZc"
   },
   "source": [
    "Make the denominator the same using together function. Assign the result back to function f1. Print f1 using pprint.\n",
    "\n",
    "Use function together (Sympy Docs https://docs.sympy.org/latest/modules/polys/reference.html#manipulation-of-rational-functions)."
   ]
  },
  {
   "cell_type": "code",
   "execution_count": null,
   "metadata": {
    "id": "HkbBe3d9bKZc"
   },
   "outputs": [],
   "source": []
  },
  {
   "cell_type": "markdown",
   "metadata": {
    "id": "1tc7DBqKbKZc"
   },
   "source": [
    "Solve $f'(x)=0$.\n",
    "\n",
    "Use function solve."
   ]
  },
  {
   "cell_type": "code",
   "execution_count": null,
   "metadata": {
    "id": "fXqoE-GvbKZc"
   },
   "outputs": [],
   "source": []
  },
  {
   "cell_type": "markdown",
   "metadata": {
    "id": "0msM7DyFbKZc"
   },
   "source": [
    "But, the function does not exist if the denominator is equal to zero."
   ]
  },
  {
   "cell_type": "markdown",
   "metadata": {
    "id": "6SBjaDoCbKZc"
   },
   "source": [
    "Solve for the denominator equal to zero.\n",
    "\n",
    "Use function solve."
   ]
  },
  {
   "cell_type": "code",
   "execution_count": null,
   "metadata": {
    "id": "XLviwMo8bKZc"
   },
   "outputs": [],
   "source": []
  },
  {
   "cell_type": "markdown",
   "metadata": {
    "id": "PiUrozglbKZd"
   },
   "source": [
    "Critical value:"
   ]
  },
  {
   "cell_type": "markdown",
   "metadata": {
    "id": "zxL9vXPVbKZd"
   },
   "source": [
    "Answer:"
   ]
  },
  {
   "cell_type": "markdown",
   "metadata": {
    "id": "hpUSrTH7bKZd"
   },
   "source": [
    "## Interval of decreasing/increasing."
   ]
  },
  {
   "cell_type": "markdown",
   "metadata": {
    "id": "ksxzyrM0bKZd"
   },
   "source": [
    "$f'(x<c)$"
   ]
  },
  {
   "cell_type": "code",
   "execution_count": null,
   "metadata": {
    "id": "H2EZt929bKZd"
   },
   "outputs": [],
   "source": []
  },
  {
   "cell_type": "markdown",
   "metadata": {
    "id": "xemjbvEAbKZd"
   },
   "source": [
    "The function is"
   ]
  },
  {
   "cell_type": "markdown",
   "metadata": {
    "id": "L_eGizbVbKZd"
   },
   "source": [
    "Answer:"
   ]
  },
  {
   "cell_type": "markdown",
   "metadata": {
    "id": "EwBSst8JbKZd"
   },
   "source": [
    "$f'(x>c)$"
   ]
  },
  {
   "cell_type": "code",
   "execution_count": null,
   "metadata": {
    "id": "o60Ve9CpbKZd"
   },
   "outputs": [],
   "source": []
  },
  {
   "cell_type": "markdown",
   "metadata": {
    "id": "InExtxw6bKZe"
   },
   "source": [
    "The function is"
   ]
  },
  {
   "cell_type": "markdown",
   "metadata": {
    "id": "Bgf0Fy-nbKZe"
   },
   "source": [
    "Answer:"
   ]
  },
  {
   "cell_type": "markdown",
   "metadata": {
    "id": "xdMPTa0ebKZe"
   },
   "source": [
    "## Maximum or Minimum point"
   ]
  },
  {
   "cell_type": "markdown",
   "metadata": {
    "id": "L9sblZ25bKZe"
   },
   "source": [
    "Find the second derivative, $f''(x)$, and assign it to variable called f2. Print f2."
   ]
  },
  {
   "cell_type": "code",
   "execution_count": null,
   "metadata": {
    "id": "N_iXW5_jbKZe"
   },
   "outputs": [],
   "source": []
  },
  {
   "cell_type": "markdown",
   "metadata": {
    "id": "1Gc0tcP6bKZe"
   },
   "source": [
    "Find the value of $f''$ at the critical value. <br />\n",
    "Note: zoo means undefined."
   ]
  },
  {
   "cell_type": "code",
   "execution_count": null,
   "metadata": {
    "id": "22GV8ir9bKZe"
   },
   "outputs": [],
   "source": []
  },
  {
   "cell_type": "markdown",
   "metadata": {
    "id": "tCxfh5sDbKZe"
   },
   "source": [
    "Extremum point:"
   ]
  },
  {
   "cell_type": "markdown",
   "metadata": {
    "id": "9JaqMR2HbKZe"
   },
   "source": [
    "Answer:"
   ]
  },
  {
   "cell_type": "markdown",
   "metadata": {
    "id": "4jcfJkCdbKZe"
   },
   "source": [
    "## Concavity"
   ]
  },
  {
   "cell_type": "markdown",
   "metadata": {
    "id": "UoQ4NqB_bKZe"
   },
   "source": [
    "Solve the second derivative equation for $x$.\n",
    "\n",
    "Use function solve."
   ]
  },
  {
   "cell_type": "code",
   "execution_count": null,
   "metadata": {
    "id": "rPE3G05ZbKZf"
   },
   "outputs": [],
   "source": []
  },
  {
   "cell_type": "markdown",
   "metadata": {
    "id": "OV2NEZvAbKZf"
   },
   "source": [
    "$f''(x < c)$"
   ]
  },
  {
   "cell_type": "markdown",
   "metadata": {
    "id": "jeKShscZbKZf"
   },
   "source": [
    "Use function subs."
   ]
  },
  {
   "cell_type": "code",
   "execution_count": null,
   "metadata": {
    "id": "-fhBOB2ZbKZf"
   },
   "outputs": [],
   "source": []
  },
  {
   "cell_type": "markdown",
   "metadata": {
    "id": "mATd5FtTbKZf"
   },
   "source": [
    "The function is "
   ]
  },
  {
   "cell_type": "markdown",
   "metadata": {
    "id": "0VRiBpJqbKZf"
   },
   "source": [
    "Answer:"
   ]
  },
  {
   "cell_type": "markdown",
   "metadata": {
    "id": "U36VzvFbbKZf"
   },
   "source": [
    "$f''(x > c)$"
   ]
  },
  {
   "cell_type": "code",
   "execution_count": null,
   "metadata": {
    "id": "Ds64nAwMbKZf"
   },
   "outputs": [],
   "source": []
  },
  {
   "cell_type": "markdown",
   "metadata": {
    "id": "93O-UkXybKZf"
   },
   "source": [
    "The function is "
   ]
  },
  {
   "cell_type": "markdown",
   "metadata": {
    "id": "26kriT1ybKZf"
   },
   "source": [
    "Answer:"
   ]
  },
  {
   "cell_type": "markdown",
   "metadata": {
    "id": "ovJLBQNUbKZf"
   },
   "source": [
    "## Horizontal Aymptote"
   ]
  },
  {
   "cell_type": "markdown",
   "metadata": {
    "id": "vKG1Et7UbKZg"
   },
   "source": [
    "Limit as f approaches positive infinity."
   ]
  },
  {
   "cell_type": "markdown",
   "metadata": {
    "id": "sW6HwY5ybKZg"
   },
   "source": [
    "Use limit function (Sympy Docs https://docs.sympy.org/latest/tutorial/calculus.html#limits)."
   ]
  },
  {
   "cell_type": "code",
   "execution_count": null,
   "metadata": {
    "id": "MEECUmw1bKZg"
   },
   "outputs": [],
   "source": []
  },
  {
   "cell_type": "markdown",
   "metadata": {
    "id": "WJ5su9sHbKZg"
   },
   "source": [
    "Limit as f approaches negative infinity."
   ]
  },
  {
   "cell_type": "markdown",
   "metadata": {
    "id": "NP4iW1ZQbKZg"
   },
   "source": [
    "Use limit function (Sympy Docs https://docs.sympy.org/latest/tutorial/calculus.html#limits)."
   ]
  },
  {
   "cell_type": "code",
   "execution_count": null,
   "metadata": {
    "id": "zFJHBrHYbKZg"
   },
   "outputs": [],
   "source": []
  },
  {
   "cell_type": "markdown",
   "metadata": {
    "id": "iGZMazHRbKZg"
   },
   "source": [
    "Horizontal asymptote:"
   ]
  },
  {
   "cell_type": "markdown",
   "metadata": {
    "id": "b-d95mfMbKZg"
   },
   "source": [
    "Answer:"
   ]
  },
  {
   "cell_type": "markdown",
   "metadata": {
    "id": "vdRgbrIJbKZg"
   },
   "source": [
    "## Vertical Asymptote"
   ]
  },
  {
   "cell_type": "markdown",
   "metadata": {
    "id": "b6Fwp0LDbKZg"
   },
   "source": [
    "Limit from the left and the right of the critical value that comes from where the function is undefined."
   ]
  },
  {
   "cell_type": "markdown",
   "metadata": {
    "id": "twm2EDHCbKZg"
   },
   "source": [
    "Limit from left.\n",
    "\n",
    "Use limit function."
   ]
  },
  {
   "cell_type": "code",
   "execution_count": null,
   "metadata": {
    "id": "Ciz5YOq-bKZh"
   },
   "outputs": [],
   "source": []
  },
  {
   "cell_type": "markdown",
   "metadata": {
    "id": "cOFsHd-IbKZh"
   },
   "source": [
    "Limit from right.\n",
    "\n",
    "Use limit function."
   ]
  },
  {
   "cell_type": "code",
   "execution_count": null,
   "metadata": {
    "id": "jK7x3CigbKZh"
   },
   "outputs": [],
   "source": []
  },
  {
   "cell_type": "markdown",
   "metadata": {
    "id": "xiGcQKvNbKZh"
   },
   "source": [
    "## Plot the function"
   ]
  },
  {
   "cell_type": "markdown",
   "metadata": {
    "id": "ngTombwibKZh"
   },
   "source": [
    "Use function plot to plot the function (Sympy Docs https://docs.sympy.org/latest/modules/plotting.html).\n",
    "\n",
    "Set the limit for y-axis from -6 to 10 by adding ylim parameter."
   ]
  },
  {
   "cell_type": "code",
   "execution_count": null,
   "metadata": {
    "id": "BxjrXGc_bKZh"
   },
   "outputs": [],
   "source": []
  }
 ],
 "metadata": {
  "colab": {
   "name": "Calculus1-Lab1b.ipynb",
   "provenance": []
  },
  "kernelspec": {
   "display_name": "Python 3 (ipykernel)",
   "language": "python",
   "name": "python3"
  },
  "language_info": {
   "codemirror_mode": {
    "name": "ipython",
    "version": 3
   },
   "file_extension": ".py",
   "mimetype": "text/x-python",
   "name": "python",
   "nbconvert_exporter": "python",
   "pygments_lexer": "ipython3",
   "version": "3.9.13"
  }
 },
 "nbformat": 4,
 "nbformat_minor": 1
}
